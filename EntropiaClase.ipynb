{
 "cells": [
  {
   "cell_type": "markdown",
   "metadata": {},
   "source": [
    "# Eliminación de atributos por método de Entropia\n",
    "\n",
    "Universidad Distrital Francisco José de Caldas\n",
    "\n",
    "Maestría Ciencias de Información y las Comunicaciones - Materia: Minería de Datos.\n",
    "\n",
    "Por: David Alonso Rueda Rodríguez - 20181395007 (daruedar@correo.udistrital.edu.co)\n",
    "\n",
    "### Tema:\n",
    "\n",
    "Minería de Datos - Eliminación por entropia datos Categóricos\n",
    "\n",
    "### Objetivo de la actividad:\n",
    "\n",
    "Desarrollar algoritmo de eliminacioń de atributos por método de Entropia\n",
    "\n",
    "### Listado de versiones\n",
    "\n",
    "1.0.0 Preparación del documento.\n",
    "\n",
    "### Fuente de repositorio de datos:\n",
    "\n",
    "Datos trabajados en clase\n",
    "\n",
    "### Requerimientos\n",
    "- Python 3.7.3\n",
    "- Librería pandas=0.24.2\n",
    "- Librería math\n",
    "- Librería scipy=1.3.0\n"
   ]
  },
  {
   "cell_type": "markdown",
   "metadata": {},
   "source": [
    "# Estimación entropia datos Categóricos"
   ]
  },
  {
   "cell_type": "code",
   "execution_count": 81,
   "metadata": {},
   "outputs": [],
   "source": [
    "import pandas as pd\n",
    "#import numpy as np\n",
    "import operator\n",
    "from math import log \n",
    "from scipy.spatial import distance"
   ]
  },
  {
   "cell_type": "code",
   "execution_count": 82,
   "metadata": {},
   "outputs": [],
   "source": [
    "import math"
   ]
  },
  {
   "cell_type": "markdown",
   "metadata": {},
   "source": [
    "#### Ingrese archivo de trabajo"
   ]
  },
  {
   "cell_type": "code",
   "execution_count": 102,
   "metadata": {},
   "outputs": [],
   "source": [
    "file_name = 'data/Datos_UCI.xlsx'"
   ]
  },
  {
   "cell_type": "markdown",
   "metadata": {},
   "source": [
    "## Primeras líneas de datos cargados"
   ]
  },
  {
   "cell_type": "code",
   "execution_count": 103,
   "metadata": {},
   "outputs": [],
   "source": [
    "data = pd.read_excel(file_name)"
   ]
  },
  {
   "cell_type": "code",
   "execution_count": 104,
   "metadata": {},
   "outputs": [
    {
     "name": "stdout",
     "output_type": "stream",
     "text": [
      "Número de características: 14 \n",
      "Número de muestras 498\n"
     ]
    }
   ],
   "source": [
    "#### Número de características\n",
    "rows = data.shape[0]\n",
    "cols = data.shape[1]\n",
    "print('Número de características: {} \\nNúmero de muestras {}' .format(cols, rows) )"
   ]
  },
  {
   "cell_type": "code",
   "execution_count": 105,
   "metadata": {},
   "outputs": [],
   "source": [
    "def entropy(data, variables=[],verbose=False):\n",
    "    Et=0\n",
    "    if len(variables)==0:\n",
    "        variables = [True] * cols\n",
    "    if verbose:\n",
    "        print('Vector variables de comparación: {}' .format(variables))\n",
    "    for i in range(rows-1):\n",
    "        for j in range(i+1,rows):\n",
    "            S01 = 1 - distance.hamming(data.iloc[i, variables],data.iloc[j, variables])\n",
    "            if verbose:\n",
    "                print('S{}{}: {}' .format(i+1,j+i,S01))\n",
    "            try:\n",
    "                val = (-1)*(S01*log(S01,2)+(1-S01)*log((1-S01),2))\n",
    "            except:\n",
    "                val = 0\n",
    "            if verbose:\n",
    "                print('ij {}{} - S01: {} -val: {}' .format(i+1,j+1,S01, val))\n",
    "            Et = Et + val\n",
    "    return Et"
   ]
  },
  {
   "cell_type": "markdown",
   "metadata": {},
   "source": [
    "## Estimación de Entropia Total"
   ]
  },
  {
   "cell_type": "code",
   "execution_count": 106,
   "metadata": {},
   "outputs": [
    {
     "data": {
      "text/plain": [
       "89841.79709315015"
      ]
     },
     "execution_count": 106,
     "metadata": {},
     "output_type": "execute_result"
    }
   ],
   "source": [
    "Et = entropy(data, verbose=False)\n",
    "Et"
   ]
  },
  {
   "cell_type": "markdown",
   "metadata": {},
   "source": [
    "## Estimación Entropias Parciales"
   ]
  },
  {
   "cell_type": "code",
   "execution_count": null,
   "metadata": {},
   "outputs": [],
   "source": [
    "### nombre columnas\n",
    "column_names = list(data.columns)\n",
    "## Vector inicial comparación\n",
    "variables = [True] * cols\n",
    "elimination = {}\n",
    "b=[]\n",
    "\n",
    "for i in range(cols):\n",
    "    for j in range(cols):\n",
    "        if j==i:\n",
    "            b.append(False)\n",
    "        else:\n",
    "            b.append(True)\n",
    "    Ep = entropy(data,b)\n",
    "    elimination.update({column_names[i]:Et-Ep})\n",
    "    b=[]\n",
    "elimination2 = dict(sorted(elimination.items(), key=operator.itemgetter(1)))\n",
    "elimination2"
   ]
  },
  {
   "cell_type": "markdown",
   "metadata": {},
   "source": [
    "## Se recomienda eliminar"
   ]
  },
  {
   "cell_type": "code",
   "execution_count": 51,
   "metadata": {},
   "outputs": [
    {
     "data": {
      "text/plain": [
       "'x1'"
      ]
     },
     "execution_count": 51,
     "metadata": {},
     "output_type": "execute_result"
    }
   ],
   "source": [
    "list(elimination2)[0]"
   ]
  }
 ],
 "metadata": {
  "kernelspec": {
   "display_name": "Python 3",
   "language": "python",
   "name": "python3"
  },
  "language_info": {
   "codemirror_mode": {
    "name": "ipython",
    "version": 3
   },
   "file_extension": ".py",
   "mimetype": "text/x-python",
   "name": "python",
   "nbconvert_exporter": "python",
   "pygments_lexer": "ipython3",
   "version": "3.7.3"
  }
 },
 "nbformat": 4,
 "nbformat_minor": 2
}
