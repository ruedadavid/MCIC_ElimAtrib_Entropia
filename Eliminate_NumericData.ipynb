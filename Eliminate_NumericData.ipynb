{
 "cells": [
  {
   "cell_type": "markdown",
   "metadata": {},
   "source": [
    "# Eliminación de atributos por método de Entropia\n",
    "\n",
    "Universidad Distrital Francisco José de Caldas\n",
    "\n",
    "Maestría Ciencias de Información y las Comunicaciones - Materia: Minería de Datos.\n",
    "\n",
    "Por: David Alonso Rueda Rodríguez - 20181395007 (daruedar@correo.udistrital.edu.co)\n",
    "\n",
    "### Tema:\n",
    "\n",
    "Minería de Datos - Eliminación por entropia datos Numéricos\n",
    "\n",
    "### Objetivo de la actividad:\n",
    "\n",
    "Desarrollar algoritmo de eliminacioń de atributos por método de Entropia\n",
    "\n",
    "### Listado de versiones\n",
    "\n",
    "1.0.0 Preparación del documento.\n",
    "\n",
    "### Fuente de repositorio de datos:\n",
    "\n",
    "Datos trabajados en clase\n",
    "\n",
    "### Requerimientos\n",
    "- Python 3.7.3\n",
    "- Librería pandas=0.24.2\n",
    "- Librería math\n",
    "- Librería scipy=1.3.0\n"
   ]
  },
  {
   "cell_type": "markdown",
   "metadata": {},
   "source": [
    "# Estimación entropia datos Categóricos"
   ]
  },
  {
   "cell_type": "code",
   "execution_count": 173,
   "metadata": {},
   "outputs": [],
   "source": [
    "import pandas as pd\n",
    "#import numpy as np\n",
    "import operator\n",
    "from math import log, sqrt, exp\n",
    "from scipy.spatial import distance"
   ]
  },
  {
   "cell_type": "markdown",
   "metadata": {},
   "source": [
    "#### Ingrese archivo de trabajo"
   ]
  },
  {
   "cell_type": "code",
   "execution_count": 28,
   "metadata": {},
   "outputs": [],
   "source": [
    "file_name = 'data/DatosNumericos.xlsx'\n",
    "column_name = data.columns\n",
    "data[column_name[1:13]][1:10]"
   ]
  },
  {
   "cell_type": "markdown",
   "metadata": {},
   "source": [
    "## Primeras líneas de datos cargados"
   ]
  },
  {
   "cell_type": "code",
   "execution_count": 188,
   "metadata": {},
   "outputs": [
    {
     "data": {
      "text/html": [
       "<div>\n",
       "<style scoped>\n",
       "    .dataframe tbody tr th:only-of-type {\n",
       "        vertical-align: middle;\n",
       "    }\n",
       "\n",
       "    .dataframe tbody tr th {\n",
       "        vertical-align: top;\n",
       "    }\n",
       "\n",
       "    .dataframe thead th {\n",
       "        text-align: right;\n",
       "    }\n",
       "</style>\n",
       "<table border=\"1\" class=\"dataframe\">\n",
       "  <thead>\n",
       "    <tr style=\"text-align: right;\">\n",
       "      <th></th>\n",
       "      <th>x1</th>\n",
       "      <th>x2</th>\n",
       "      <th>x3</th>\n",
       "      <th>x4</th>\n",
       "    </tr>\n",
       "  </thead>\n",
       "  <tbody>\n",
       "    <tr>\n",
       "      <th>0</th>\n",
       "      <td>0.1</td>\n",
       "      <td>0.3</td>\n",
       "      <td>0.7</td>\n",
       "      <td>0.9</td>\n",
       "    </tr>\n",
       "    <tr>\n",
       "      <th>1</th>\n",
       "      <td>0.2</td>\n",
       "      <td>0.2</td>\n",
       "      <td>0.8</td>\n",
       "      <td>0.1</td>\n",
       "    </tr>\n",
       "    <tr>\n",
       "      <th>2</th>\n",
       "      <td>0.3</td>\n",
       "      <td>0.7</td>\n",
       "      <td>0.2</td>\n",
       "      <td>0.8</td>\n",
       "    </tr>\n",
       "    <tr>\n",
       "      <th>3</th>\n",
       "      <td>0.4</td>\n",
       "      <td>0.8</td>\n",
       "      <td>0.9</td>\n",
       "      <td>0.2</td>\n",
       "    </tr>\n",
       "    <tr>\n",
       "      <th>4</th>\n",
       "      <td>0.5</td>\n",
       "      <td>0.9</td>\n",
       "      <td>0.4</td>\n",
       "      <td>0.7</td>\n",
       "    </tr>\n",
       "    <tr>\n",
       "      <th>5</th>\n",
       "      <td>0.8</td>\n",
       "      <td>0.6</td>\n",
       "      <td>0.3</td>\n",
       "      <td>0.3</td>\n",
       "    </tr>\n",
       "  </tbody>\n",
       "</table>\n",
       "</div>"
      ],
      "text/plain": [
       "    x1   x2   x3   x4\n",
       "0  0.1  0.3  0.7  0.9\n",
       "1  0.2  0.2  0.8  0.1\n",
       "2  0.3  0.7  0.2  0.8\n",
       "3  0.4  0.8  0.9  0.2\n",
       "4  0.5  0.9  0.4  0.7\n",
       "5  0.8  0.6  0.3  0.3"
      ]
     },
     "execution_count": 188,
     "metadata": {},
     "output_type": "execute_result"
    }
   ],
   "source": [
    "data = pd.read_excel(file_name)\n",
    "data"
   ]
  },
  {
   "cell_type": "code",
   "execution_count": 189,
   "metadata": {},
   "outputs": [
    {
     "name": "stdout",
     "output_type": "stream",
     "text": [
      "Número de características: 4 \n",
      "Número de muestras 6\n"
     ]
    }
   ],
   "source": [
    "#### Número de características\n",
    "rows = data.shape[0]\n",
    "cols = data.shape[1]\n",
    "print('Número de características: {} \\nNúmero de muestras {}' .format(cols, rows) )"
   ]
  },
  {
   "cell_type": "code",
   "execution_count": 191,
   "metadata": {},
   "outputs": [],
   "source": [
    "### nombre columnas\n",
    "column_names = list(data.columns)"
   ]
  },
  {
   "cell_type": "code",
   "execution_count": 280,
   "metadata": {},
   "outputs": [],
   "source": [
    "def entropy_numeric(data, variables=[],verbose=False, alpha=0.5):\n",
    "    if len(variables)==0:\n",
    "        variables = [True] * cols\n",
    "    if verbose:\n",
    "        print('Vector variables de comparación: {}' .format(variables))\n",
    "    Et=0\n",
    "    sd_intermedio = []\n",
    "    for i in range(rows):\n",
    "        for j in range(i+1,rows):\n",
    "            D01=0\n",
    "            for k in range(cols):\n",
    "                if verbose:\n",
    "                    print('k:{}'.format(k))\n",
    "                if variables[k]==True:\n",
    "                    max = data[column_names[k]].max()\n",
    "                    min = data[column_names[k]].min()\n",
    "                    D0 = ((data[column_names[k]][i]-data[column_names[k]][j])/(max-min))**2\n",
    "                    if verbose:\n",
    "                        print('kij{}{}, DO: {}' .format(k+1,i+1,j+1,D0))\n",
    "                    D01 = D0 + D01\n",
    "            D01 = sqrt(D01)\n",
    "            sd_intermedio.append(D01)\n",
    "            if verbose:\n",
    "                print('D01:{}' .format(D01))\n",
    "    b = [exp((-0.5)*val) for val in sd_intermedio]\n",
    "    c = [((loga*log(loga,2))+((1-loga)*log((1-loga),2))) for loga in b]\n",
    "    for i in c:\n",
    "        Et = Et + i\n",
    "    Et = (-1)*Et\n",
    "    if verbose:\n",
    "        print('Et: {}'.format(Et))\n",
    "    return Et"
   ]
  },
  {
   "cell_type": "markdown",
   "metadata": {},
   "source": [
    "## Estimación de Entropia Total"
   ]
  },
  {
   "cell_type": "code",
   "execution_count": 281,
   "metadata": {},
   "outputs": [
    {
     "data": {
      "text/plain": [
       "14.446359478120383"
      ]
     },
     "execution_count": 281,
     "metadata": {},
     "output_type": "execute_result"
    }
   ],
   "source": [
    "Et = entropy_numeric(data=data)\n",
    "Et"
   ]
  },
  {
   "cell_type": "markdown",
   "metadata": {},
   "source": [
    "## Estimación Entropias Parciales"
   ]
  },
  {
   "cell_type": "code",
   "execution_count": 299,
   "metadata": {},
   "outputs": [
    {
     "data": {
      "text/plain": [
       "{'x1': 0.3766657990054636,\n",
       " 'x3': 0.5559866040396333,\n",
       " 'x2': 0.6597958622705669,\n",
       " 'x4': 0.79115070805158}"
      ]
     },
     "execution_count": 299,
     "metadata": {},
     "output_type": "execute_result"
    }
   ],
   "source": [
    "## Vector inicial comparación\n",
    "variables = [True] * cols\n",
    "elimination = {}\n",
    "b=[]\n",
    "\n",
    "for i in range(cols):\n",
    "    for j in range(cols):\n",
    "        if j==i:\n",
    "            b.append(False)\n",
    "        else:\n",
    "            b.append(True)\n",
    "    Ep = entropy_numeric(data,b)\n",
    "    elimination.update({column_names[i]:Et-Ep})\n",
    "    b=[]\n",
    "elimination2 = dict(sorted(elimination.items(), key=operator.itemgetter(1)))\n",
    "elimination2"
   ]
  },
  {
   "cell_type": "markdown",
   "metadata": {},
   "source": [
    "## Se recomienda eliminar"
   ]
  },
  {
   "cell_type": "code",
   "execution_count": 289,
   "metadata": {},
   "outputs": [
    {
     "data": {
      "text/plain": [
       "'x1'"
      ]
     },
     "execution_count": 289,
     "metadata": {},
     "output_type": "execute_result"
    }
   ],
   "source": [
    "list(elimination2)[0]"
   ]
  }
 ],
 "metadata": {
  "kernelspec": {
   "display_name": "Python 3",
   "language": "python",
   "name": "python3"
  },
  "language_info": {
   "codemirror_mode": {
    "name": "ipython",
    "version": 3
   },
   "file_extension": ".py",
   "mimetype": "text/x-python",
   "name": "python",
   "nbconvert_exporter": "python",
   "pygments_lexer": "ipython3",
   "version": "3.7.3"
  }
 },
 "nbformat": 4,
 "nbformat_minor": 2
}
